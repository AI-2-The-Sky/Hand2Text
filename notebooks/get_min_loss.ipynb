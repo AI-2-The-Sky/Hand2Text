{
 "cells": [
  {
   "cell_type": "code",
   "execution_count": 4,
   "metadata": {},
   "outputs": [
    {
     "name": "stderr",
     "output_type": "stream",
     "text": [
      "/home/dolmalin/miniconda/envs/Hand2Text/lib/python3.8/site-packages/tqdm/auto.py:22: TqdmWarning: IProgress not found. Please update jupyter and ipywidgets. See https://ipywidgets.readthedocs.io/en/stable/user_install.html\n",
      "  from .autonotebook import tqdm as notebook_tqdm\n"
     ]
    }
   ],
   "source": [
    "\n",
    "import torch"
   ]
  },
  {
   "cell_type": "code",
   "execution_count": 14,
   "metadata": {},
   "outputs": [],
   "source": [
    "def get_y_logits(m, nb_class=1999):\n",
    "    y = torch.randint(low=0, high=nb_class, size=(m,))\n",
    "    logits = torch.zeros((m, nb_class), dtype=torch.float32)\n",
    "    for i in range(m):\n",
    "        logits[i, y[i]] = 1\n",
    "    print(f\"{logits.shape = }\")\n",
    "    print(f\"{y.shape = }\")\n",
    "    criterion = torch.nn.CrossEntropyLoss()\n",
    "    loss = criterion(logits, y)\n",
    "    return logits, y, loss\n"
   ]
  },
  {
   "cell_type": "code",
   "execution_count": 2,
   "metadata": {},
   "outputs": [
    {
     "ename": "NameError",
     "evalue": "name 'get_y_logits' is not defined",
     "output_type": "error",
     "traceback": [
      "\u001b[0;31m---------------------------------------------------------------------------\u001b[0m",
      "\u001b[0;31mNameError\u001b[0m                                 Traceback (most recent call last)",
      "\u001b[1;32m/home/dolmalin/Documents/work/42ai/Hand2Text/notebooks/get_min_loss.ipynb Cell 3\u001b[0m in \u001b[0;36m<cell line: 1>\u001b[0;34m()\u001b[0m\n\u001b[0;32m----> <a href='vscode-notebook-cell:/home/dolmalin/Documents/work/42ai/Hand2Text/notebooks/get_min_loss.ipynb#ch0000002?line=0'>1</a>\u001b[0m logits, y, loss \u001b[39m=\u001b[39m get_y_logits(m\u001b[39m=\u001b[39m\u001b[39m64\u001b[39m, nb_class\u001b[39m=\u001b[39m\u001b[39m1999\u001b[39m)\n\u001b[1;32m      <a href='vscode-notebook-cell:/home/dolmalin/Documents/work/42ai/Hand2Text/notebooks/get_min_loss.ipynb#ch0000002?line=1'>2</a>\u001b[0m \u001b[39mprint\u001b[39m(\u001b[39mf\u001b[39m\u001b[39m\"\u001b[39m\u001b[39m{\u001b[39;00mlogits\u001b[39m.\u001b[39mshape \u001b[39m= }\u001b[39;00m\u001b[39m\"\u001b[39m)\n\u001b[1;32m      <a href='vscode-notebook-cell:/home/dolmalin/Documents/work/42ai/Hand2Text/notebooks/get_min_loss.ipynb#ch0000002?line=2'>3</a>\u001b[0m \u001b[39mprint\u001b[39m(\u001b[39mf\u001b[39m\u001b[39m\"\u001b[39m\u001b[39m{\u001b[39;00my\u001b[39m.\u001b[39mshape \u001b[39m= }\u001b[39;00m\u001b[39m\"\u001b[39m)\n",
      "\u001b[0;31mNameError\u001b[0m: name 'get_y_logits' is not defined"
     ]
    }
   ],
   "source": [
    "logits, y, loss = get_y_logits(m=64, nb_class=1999)\n",
    "print(f\"{logits.shape = }\")\n",
    "print(f\"{y.shape = }\")\n",
    "print(f\"{loss = }\")"
   ]
  },
  {
   "cell_type": "code",
   "execution_count": 8,
   "metadata": {},
   "outputs": [
    {
     "name": "stdout",
     "output_type": "stream",
     "text": [
      "logits.shape = torch.Size([16, 1999])\n",
      "y.shape = torch.Size([16])\n"
     ]
    },
    {
     "data": {
      "text/plain": [
       "tensor(6.6013)"
      ]
     },
     "execution_count": 8,
     "metadata": {},
     "output_type": "execute_result"
    }
   ],
   "source": [
    "m = 16\n",
    "y = torch.randint(low=0, high=2, size=(m,))\n",
    "logits = torch.zeros((m, 1999), dtype=torch.float32)\n",
    "for i in range(m):\n",
    "    logits[i, y[i]] = 1\n",
    "criterion = torch.nn.CrossEntropyLoss()\n",
    "print(f\"{logits.shape = }\")\n",
    "print(f\"{y.shape = }\")\n",
    "criterion(logits, y)"
   ]
  }
 ],
 "metadata": {
  "kernelspec": {
   "display_name": "Python 3.8.13 ('Hand2Text')",
   "language": "python",
   "name": "python3"
  },
  "language_info": {
   "codemirror_mode": {
    "name": "ipython",
    "version": 3
   },
   "file_extension": ".py",
   "mimetype": "text/x-python",
   "name": "python",
   "nbconvert_exporter": "python",
   "pygments_lexer": "ipython3",
   "version": "3.8.13"
  },
  "vscode": {
   "interpreter": {
    "hash": "65fb5dd8ae324f83aa5144c1c5dc9ef961af4827b21b9b1b28ba5f6a989edf83"
   }
  }
 },
 "nbformat": 4,
 "nbformat_minor": 2
}
