{
 "cells": [
  {
   "cell_type": "code",
   "execution_count": 10,
   "metadata": {},
   "outputs": [],
   "source": [
    "\n",
    "import torch"
   ]
  },
  {
   "cell_type": "code",
   "execution_count": 11,
   "metadata": {},
   "outputs": [],
   "source": [
    "def get_y_logits(m, nb_class=1999):\n",
    "    y = torch.randint(low=0, high=nb_class, size=(m,))\n",
    "    logits = torch.zeros((m, nb_class), dtype=torch.float32)\n",
    "    for i in range(m):\n",
    "        logits[i, y[i]] = 1\n",
    "    print(f\"{logits.shape = }\")\n",
    "    print(f\"{y.shape = }\")\n",
    "    criterion = torch.nn.CrossEntropyLoss()\n",
    "    loss = criterion(logits, y)\n",
    "    return logits, y, loss\n"
   ]
  },
  {
   "cell_type": "code",
   "execution_count": 12,
   "metadata": {},
   "outputs": [
    {
     "name": "stdout",
     "output_type": "stream",
     "text": [
      "logits.shape = torch.Size([1000, 10])\n",
      "y.shape = torch.Size([1000])\n",
      "logits.shape = torch.Size([1000, 10])\n",
      "y.shape = torch.Size([1000])\n",
      "loss = tensor(1.4612)\n"
     ]
    }
   ],
   "source": [
    "logits, y, loss = get_y_logits(m=1000, nb_class=10)\n",
    "print(f\"{logits.shape = }\")\n",
    "print(f\"{y.shape = }\")\n",
    "print(f\"{loss = }\")"
   ]
  },
  {
   "cell_type": "code",
   "execution_count": 13,
   "metadata": {},
   "outputs": [
    {
     "name": "stdout",
     "output_type": "stream",
     "text": [
      "logits.shape = torch.Size([16, 4])\n",
      "y.shape = torch.Size([16])\n"
     ]
    },
    {
     "data": {
      "text/plain": [
       "tensor(0.7437)"
      ]
     },
     "execution_count": 13,
     "metadata": {},
     "output_type": "execute_result"
    }
   ],
   "source": [
    "m = 16\n",
    "y = torch.randint(low=0, high=2, size=(m,))\n",
    "logits = torch.zeros((m, 4), dtype=torch.float32)\n",
    "for i in range(m):\n",
    "    logits[i, y[i]] = 1\n",
    "criterion = torch.nn.CrossEntropyLoss()\n",
    "print(f\"{logits.shape = }\")\n",
    "print(f\"{y.shape = }\")\n",
    "criterion(logits, y)"
   ]
  },
  {
   "cell_type": "code",
   "execution_count": 15,
   "metadata": {},
   "outputs": [
    {
     "name": "stdout",
     "output_type": "stream",
     "text": [
      "Losses for   1 classes of sizes: [10]\n",
      "    truth: 1.4611501693725586\n",
      "    rando: 2.4611501693725586\n",
      "    false: 2.4611501693725586\n"
     ]
    }
   ],
   "source": [
    "def get_y_logits_seq(m=64, seq=10, nb_class=159, pred=\"truth\"):\n",
    "    y = torch.randint(low=0, high=nb_class, size=(m,seq))\n",
    "    logits = torch.zeros((m, nb_class, seq), dtype=torch.float32)\n",
    "    for i in range(m):\n",
    "        for ii in range(seq):\n",
    "            if pred == \"truth\":\n",
    "                c_i = y[i, ii]\n",
    "            elif pred == \"rando\":\n",
    "                c_i = torch.randint(low=0, high=nb_class, size=(1,))\n",
    "            elif pred == \"false\":\n",
    "                c_i = y[i, ii] - 1\n",
    "            else:\n",
    "                raise ValueError\n",
    "            logits[i, c_i, ii] = 1.\n",
    "    criterion = torch.nn.CrossEntropyLoss()\n",
    "    loss = criterion(logits, y)\n",
    "    return loss\n",
    "\n",
    "\n",
    "def loss_seq_for_classes(classes=[10], seq=2, examples=2):\n",
    "    print(f\"Losses for {len(classes):>3} classes of sizes: {classes}\")\n",
    "    losses = {}\n",
    "    for pt in [\"truth\", \"rando\", \"false\"]:\n",
    "        loss = 0\n",
    "        for cs in classes:\n",
    "            loss += get_y_logits_seq(\n",
    "                m=examples, \n",
    "                seq=seq, \n",
    "                nb_class=cs, \n",
    "                pred=pt\n",
    "            )\n",
    "        print(f\"{' ' * 4}{pt}: {loss}\")\n",
    "        losses[pt] = loss\n",
    "    return losses\n",
    "\n",
    "_ = loss_seq_for_classes(classes=[10])"
   ]
  }
 ],
 "metadata": {
  "kernelspec": {
   "display_name": "Python 3.8.13 ('Hand2Text')",
   "language": "python",
   "name": "python3"
  },
  "language_info": {
   "codemirror_mode": {
    "name": "ipython",
    "version": 3
   },
   "file_extension": ".py",
   "mimetype": "text/x-python",
   "name": "python",
   "nbconvert_exporter": "python",
   "pygments_lexer": "ipython3",
   "version": "3.8.13"
  },
  "vscode": {
   "interpreter": {
    "hash": "d6a1fdae9833a5113bc83e3f8f009978604bb9708e2253166b0ed506f232eda5"
   }
  }
 },
 "nbformat": 4,
 "nbformat_minor": 2
}
