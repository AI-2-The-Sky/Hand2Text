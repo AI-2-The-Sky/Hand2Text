{
 "cells": [
  {
   "cell_type": "code",
   "execution_count": 1,
   "metadata": {},
   "outputs": [
    {
     "name": "stderr",
     "output_type": "stream",
     "text": [
      "/home/dolmalin/miniconda/envs/Hand2Text/lib/python3.8/site-packages/tqdm/auto.py:22: TqdmWarning: IProgress not found. Please update jupyter and ipywidgets. See https://ipywidgets.readthedocs.io/en/stable/user_install.html\n",
      "  from .autonotebook import tqdm as notebook_tqdm\n"
     ]
    }
   ],
   "source": [
    "import torch\n",
    "from torchvision import datasets, transforms\n",
    "import torch.nn.functional as F\n",
    "from torch import nn\n",
    "from torch.utils.data import ConcatDataset, DataLoader, Dataset\n",
    "import numpy as np\n",
    "from nptyping import Float32, NDArray, Number, Shape, UInt\n",
    "from transformers import ViTModel\n",
    "import pytorch_lightning as pl\n",
    "\n",
    "import os\n",
    "import sys\n",
    "module_path = os.path.abspath(os.path.join('..'))\n",
    "if module_path not in sys.path:\n",
    "    sys.path.insert(0, module_path)"
   ]
  },
  {
   "cell_type": "code",
   "execution_count": 2,
   "metadata": {},
   "outputs": [],
   "source": [
    "class SignedDataset(Dataset):\n",
    "    def __init__(self, X, Y):\n",
    "        self.X = X\n",
    "        # [n_video, nb_frames, 3, 320, 240]\n",
    "        self.Y = Y\n",
    "        # [n_video, nb_signes, 1]\n",
    "\n",
    "    def __len__(self):\n",
    "        return len(self.X)\n",
    "\n",
    "    def __getitem__(self, i):\n",
    "        return self.X[i], self.Y[i]"
   ]
  },
  {
   "cell_type": "code",
   "execution_count": 90,
   "metadata": {},
   "outputs": [
    {
     "name": "stdout",
     "output_type": "stream",
     "text": [
      "torch.Size([2, 2])\n"
     ]
    }
   ],
   "source": [
    "nb_classes = 1999\n",
    "\n",
    "class GRU_Translator(pl.LightningModule):\n",
    "\tdef __init__(\n",
    "\t\tself,\n",
    "\t\tH_input_size: int = 760,\n",
    "\t\tH_output_size: int = 100,\n",
    "\t\tnum_layers: int = 1,\n",
    "\t\tdropout: int = 0,\n",
    "\t\tcorpus: str = \"/usr/share/dict/words\",\n",
    "\t):\n",
    "\t\tsuper().__init__()\n",
    "\t\tself.save_hyperparameters()\n",
    "\t\tself.vocabulary_size = nb_classes\n",
    "\t\tself.layer_gru = nn.GRU(\n",
    "\t\t\tinput_size=self.hparams.H_input_size,\n",
    "\t\t\thidden_size=self.hparams.H_output_size,\n",
    "\t\t\tnum_layers=self.hparams.num_layers,\n",
    "\t\t\tbatch_first=True,\n",
    "\t\t\tdropout=self.hparams.dropout,\n",
    "\t\t)\n",
    "\t\t# print(f\"{self.hparams.H_input_size= }\\n{self.hparams.H_output_size}\")\n",
    "\n",
    "\t\tself.layer_1_dense = nn.Linear(self.hparams.H_output_size, 400)\n",
    "\t\tself.layer_1_relu = nn.ReLU()\n",
    "\t\tself.layer_2_dense = nn.Linear(400, self.vocabulary_size)\n",
    "\t\tself.layer_2_relu = nn.ReLU()\n",
    "\t\tself.softmax = nn.Softmax(dim=2)\n",
    "\t\t\t# x = torch.squeeze(x)\n",
    "\n",
    "\tdef forward(self, X):\n",
    "\t\t# print(f\"gru before: {X.shape = }\")\n",
    "\t\tX, hidden = self.layer_gru(X)\n",
    "\t\t# print(f\"gru after: {X.shape = }\")\n",
    "\t\tX = self.layer_1_dense(X)\n",
    "\t\tX = self.layer_1_relu(X)\n",
    "\t\t# print(f\"gru: {X.shape = }\")\n",
    "\t\tX = self.layer_2_dense(X)\n",
    "\t\tX = self.layer_2_relu(X)\n",
    "\t\t# print(f\"gru: {X.shape = }\")\n",
    "\t\tX = self.softmax(X)\n",
    "\t\t# print(f\"gru end: {X.shape= }\")\n",
    "\t\t# print(f\"gru: {X.shape = }\")\n",
    "\t\treturn X\n",
    "\n",
    "class BaseSquareNet(pl.LightningModule):\n",
    "\tdef __init__(\n",
    "\t\tself,\n",
    "\t\tcorpus: str = \"/usr/share/dict/words\",\n",
    "\t\tbatch_size: int = 1,\n",
    "\t\tnb_batch: int = 1,\n",
    "\t\tsequence_size: int = 16,\n",
    "\t):\n",
    "\t\tsuper().__init__()\n",
    "\t\tself.save_hyperparameters()\n",
    "\n",
    "\t\tself.batch_size = batch_size\n",
    "\t\tself.nb_batch = nb_batch\n",
    "\t\t# self.vocabulary_size3= len(np.array(open(corpus).read().splitlines()))\n",
    "\t\tself.vocabulary_size = nb_classes\n",
    "\t\tself.recurrent_translator = GRU_Translator(\n",
    "\t\t\tH_input_size=760,\n",
    "\t\t\tH_output_size=75,\n",
    "\t\t\tnum_layers=1,\n",
    "\t\t\tdropout=0,\n",
    "\t\t\tcorpus=corpus,\n",
    "\t\t)\n",
    "\n",
    "\tdef forward(\n",
    "\t\tself, x: NDArray[Shape[\"* batch, 224, 224, 3\"], Float32]\n",
    "\t) -> NDArray[Shape[\"* batch, * vocab size\"], Float32]:\n",
    "\t\tx = self.recurrent_translator(x)\n",
    "\t\t# print(f\"Bsqr: {x.shape = }\")\n",
    "\t\treturn x\n",
    "\n",
    "\n",
    "# NB_BATCH = BATCH\n",
    "# BATCH_SIZE = SEQUENCE\n",
    "nb_batch = 2\n",
    "batch_size = 2\n",
    "\n",
    "x = torch.rand((nb_batch, batch_size, 760))\n",
    "y = torch.randint(0, nb_classes, (nb_batch, batch_size))\n",
    "\n",
    "print(y.shape)\n",
    "# Batch, Sequence, Hin\n",
    "corpus=\"/home/dolmalin/Documents/work/42ai/Hand2Text/data/H2T/wlasl_words\"\n",
    "\n",
    "\n",
    "model = BaseSquareNet(corpus=corpus, nb_batch=nb_batch, batch_size=batch_size)\n",
    "dataset = SignedDataset(x, y)\n",
    "\n",
    "dataloader = DataLoader(dataset=dataset, batch_size=batch_size)\n",
    "learning_rate = 1e-2\n",
    "loss_fn = torch.nn.CrossEntropyLoss()\n",
    "optimizer = torch.optim.SGD(model.parameters(), lr=learning_rate)\n",
    "# optimizer = torch.optim.Adam(model.parameters(), lr=learning_rate)\n",
    "\n",
    "def train(train_loader, model, loss_fn, optmizer):\n",
    "\tloss = 10\n",
    "\tidx = 0\n",
    "\twhile loss > 0:\n",
    "\t\tfor batch_idx, (X, y) in enumerate(train_loader):\n",
    "\t\t\tpred = model(X)\n",
    "\t\t\tpred = pred.permute(1, 2, 0)\n",
    "\t\t\t# print(pred.shape)\n",
    "\t\t\tloss = loss_fn(pred, y)\n",
    "\t\t\tloss.backward()\n",
    "\t\t\toptimizer.step()\n",
    "\t\t\toptimizer.zero_grad()\n",
    "\t\t\tif batch_idx % 100 == 0:\n",
    "\t\t\t\tprint(f'{idx} loss: {loss}\\r', end='')\n",
    "\t\t\tidx += 1"
   ]
  },
  {
   "cell_type": "code",
   "execution_count": 91,
   "metadata": {},
   "outputs": [
    {
     "name": "stdout",
     "output_type": "stream",
     "text": [
      "558868 loss: 6.8511991500854495\r"
     ]
    },
    {
     "ename": "KeyboardInterrupt",
     "evalue": "",
     "output_type": "error",
     "traceback": [
      "\u001b[0;31m---------------------------------------------------------------------------\u001b[0m",
      "\u001b[0;31mKeyboardInterrupt\u001b[0m                         Traceback (most recent call last)",
      "\u001b[1;32m/home/dolmalin/Documents/work/42ai/Hand2Text/notebooks/overfit_gru.ipynb Cell 4\u001b[0m in \u001b[0;36m<cell line: 1>\u001b[0;34m()\u001b[0m\n\u001b[0;32m----> <a href='vscode-notebook-cell:/home/dolmalin/Documents/work/42ai/Hand2Text/notebooks/overfit_gru.ipynb#ch0000003?line=0'>1</a>\u001b[0m train(dataloader, model, loss_fn, optimizer)\n",
      "\u001b[1;32m/home/dolmalin/Documents/work/42ai/Hand2Text/notebooks/overfit_gru.ipynb Cell 4\u001b[0m in \u001b[0;36mtrain\u001b[0;34m(train_loader, model, loss_fn, optmizer)\u001b[0m\n\u001b[1;32m    <a href='vscode-notebook-cell:/home/dolmalin/Documents/work/42ai/Hand2Text/notebooks/overfit_gru.ipynb#ch0000003?line=107'>108</a>\u001b[0m loss\u001b[39m.\u001b[39mbackward()\n\u001b[1;32m    <a href='vscode-notebook-cell:/home/dolmalin/Documents/work/42ai/Hand2Text/notebooks/overfit_gru.ipynb#ch0000003?line=108'>109</a>\u001b[0m optimizer\u001b[39m.\u001b[39mstep()\n\u001b[0;32m--> <a href='vscode-notebook-cell:/home/dolmalin/Documents/work/42ai/Hand2Text/notebooks/overfit_gru.ipynb#ch0000003?line=109'>110</a>\u001b[0m optimizer\u001b[39m.\u001b[39;49mzero_grad()\n\u001b[1;32m    <a href='vscode-notebook-cell:/home/dolmalin/Documents/work/42ai/Hand2Text/notebooks/overfit_gru.ipynb#ch0000003?line=110'>111</a>\u001b[0m \u001b[39mif\u001b[39;00m batch_idx \u001b[39m%\u001b[39m \u001b[39m100\u001b[39m \u001b[39m==\u001b[39m \u001b[39m0\u001b[39m:\n\u001b[1;32m    <a href='vscode-notebook-cell:/home/dolmalin/Documents/work/42ai/Hand2Text/notebooks/overfit_gru.ipynb#ch0000003?line=111'>112</a>\u001b[0m \t\u001b[39mprint\u001b[39m(\u001b[39mf\u001b[39m\u001b[39m'\u001b[39m\u001b[39m{\u001b[39;00midx\u001b[39m}\u001b[39;00m\u001b[39m loss: \u001b[39m\u001b[39m{\u001b[39;00mloss\u001b[39m}\u001b[39;00m\u001b[39m\\r\u001b[39;00m\u001b[39m'\u001b[39m, end\u001b[39m=\u001b[39m\u001b[39m'\u001b[39m\u001b[39m'\u001b[39m)\n",
      "File \u001b[0;32m~/miniconda/envs/Hand2Text/lib/python3.8/site-packages/torch/optim/optimizer.py:244\u001b[0m, in \u001b[0;36mOptimizer.zero_grad\u001b[0;34m(self, set_to_none)\u001b[0m\n\u001b[1;32m    242\u001b[0m \u001b[39melse\u001b[39;00m:\n\u001b[1;32m    243\u001b[0m     p\u001b[39m.\u001b[39mgrad\u001b[39m.\u001b[39mrequires_grad_(\u001b[39mFalse\u001b[39;00m)\n\u001b[0;32m--> 244\u001b[0m \u001b[39mif\u001b[39;00m (\u001b[39mnot\u001b[39;00m foreach \u001b[39mor\u001b[39;00m p\u001b[39m.\u001b[39mgrad\u001b[39m.\u001b[39mis_sparse):\n\u001b[1;32m    245\u001b[0m     p\u001b[39m.\u001b[39mgrad\u001b[39m.\u001b[39mzero_()\n\u001b[1;32m    246\u001b[0m \u001b[39melse\u001b[39;00m:\n",
      "\u001b[0;31mKeyboardInterrupt\u001b[0m: "
     ]
    }
   ],
   "source": [
    "train(dataloader, model, loss_fn, optimizer)"
   ]
  }
 ],
 "metadata": {
  "kernelspec": {
   "display_name": "Python 3.8.13 ('Hand2Text')",
   "language": "python",
   "name": "python3"
  },
  "language_info": {
   "codemirror_mode": {
    "name": "ipython",
    "version": 3
   },
   "file_extension": ".py",
   "mimetype": "text/x-python",
   "name": "python",
   "nbconvert_exporter": "python",
   "pygments_lexer": "ipython3",
   "version": "3.8.13"
  },
  "orig_nbformat": 4,
  "vscode": {
   "interpreter": {
    "hash": "65fb5dd8ae324f83aa5144c1c5dc9ef961af4827b21b9b1b28ba5f6a989edf83"
   }
  }
 },
 "nbformat": 4,
 "nbformat_minor": 2
}
