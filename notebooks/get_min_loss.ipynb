{
 "cells": [
  {
   "cell_type": "code",
   "execution_count": null,
   "metadata": {},
   "outputs": [],
   "source": [
    "\n",
    "import torch"
   ]
  },
  {
   "cell_type": "code",
   "execution_count": null,
   "metadata": {},
   "outputs": [],
   "source": [
    "def get_y_logits(m, nb_class=159):\n",
    "    y = torch.randint(low=0, high=nb_class, size=(m,))\n",
    "    logits = torch.zeros((m, nb_class), dtype=torch.float32)\n",
    "    for i in range(m):\n",
    "        logits[i, y[i]] = 1\n",
    "    print(f\"{logits.shape = }\")\n",
    "    print(f\"{y.shape = }\")\n",
    "    criterion = torch.nn.CrossEntropyLoss()\n",
    "    loss = criterion(logits, y)\n",
    "    return logits, y, loss\n"
   ]
  },
  {
   "cell_type": "code",
   "execution_count": null,
   "metadata": {},
   "outputs": [],
   "source": [
    "logits, y, loss = get_y_logits(m=3, nb_class=1999)\n",
    "print(f\"{logits.shape = }\")\n",
    "print(f\"{y.shape = }\")\n",
    "print(f\"{loss = }\")"
   ]
  }
 ],
 "metadata": {
  "kernelspec": {
   "display_name": "Python 3.8.13 ('Hand2Text')",
   "language": "python",
   "name": "python3"
  },
  "language_info": {
   "codemirror_mode": {
    "name": "ipython",
    "version": 3
   },
   "file_extension": ".py",
   "mimetype": "text/x-python",
   "name": "python",
   "nbconvert_exporter": "python",
   "pygments_lexer": "ipython3",
   "version": "3.8.13"
  },
  "vscode": {
   "interpreter": {
    "hash": "65fb5dd8ae324f83aa5144c1c5dc9ef961af4827b21b9b1b28ba5f6a989edf83"
   }
  }
 },
 "nbformat": 4,
 "nbformat_minor": 2
}
