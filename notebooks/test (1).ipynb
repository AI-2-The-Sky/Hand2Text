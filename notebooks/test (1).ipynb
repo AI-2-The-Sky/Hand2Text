{
 "cells": [
  {
   "cell_type": "code",
   "execution_count": 242,
   "metadata": {},
   "outputs": [],
   "source": [
    "import torch\n",
    "from torchvision import datasets, transforms\n",
    "import torch.nn.functional as F\n",
    "from torch import nn\n",
    "\n",
    "from vit_pytorch import ViT\n",
    "from vit_pytorch.extractor import Extractor\n",
    "\n",
    "from transformers import ViTFeatureExtractor\n",
    "import torchvision.transforms.functional as F\n"
   ]
  },
  {
   "cell_type": "markdown",
   "metadata": {},
   "source": [
    "## Hyperparameters"
   ]
  },
  {
   "cell_type": "code",
   "execution_count": 243,
   "metadata": {},
   "outputs": [],
   "source": [
    "batch_size=1\n",
    "learning_rate = 0.1\n",
    "\n",
    "if torch.cuda.is_available():\n",
    "\tdev = \"cuda\"\n",
    "else:\n",
    "\tdev = \"cpu\"\n",
    "\n",
    "device = torch.device(dev)"
   ]
  },
  {
   "cell_type": "markdown",
   "metadata": {},
   "source": [
    "## Download Datasets"
   ]
  },
  {
   "cell_type": "code",
   "execution_count": 244,
   "metadata": {},
   "outputs": [],
   "source": [
    "transform = transforms.Compose([transforms.ToTensor()])\n",
    "train_data = datasets.MNIST('../data', train=True, download=True, transform=transform)\n",
    "test_data = datasets.MNIST('../data', train=False, download=True, transform=transform)"
   ]
  },
  {
   "cell_type": "markdown",
   "metadata": {},
   "source": [
    "## Load Data"
   ]
  },
  {
   "cell_type": "code",
   "execution_count": 245,
   "metadata": {},
   "outputs": [],
   "source": [
    "train_loader = torch.utils.data.DataLoader(train_data, batch_size = batch_size, shuffle = True)\n",
    "test_loader = torch.utils.data.DataLoader(test_data, batch_size = batch_size, shuffle = True)"
   ]
  },
  {
   "cell_type": "markdown",
   "metadata": {},
   "source": [
    "## Model"
   ]
  },
  {
   "cell_type": "code",
   "execution_count": 246,
   "metadata": {},
   "outputs": [],
   "source": [
    "class LinearClassifier(nn.Module):\n",
    "\n",
    "\tdef __init__(\n",
    "\t\tself,\n",
    "\t\tclasses: int = 10,\n",
    "\t\twidth: int = 28,\n",
    "\t\theight: int = 28,\n",
    "\t\tchannels: int = 1,\n",
    "\t):\n",
    "\t\tsuper().__init__()\n",
    "\n",
    "\t\tself.classes = classes\n",
    "\t\tself.width = width\n",
    "\t\tself.height = height\n",
    "\t\tself.channels = channels\n",
    "\n",
    "        # Layer 1\n",
    "\t\tself.fc_1 = nn.Linear(width * height * channels, self.classes)\n",
    "\n",
    "\tdef forward(self, x):\n",
    "\t\tx = torch.flatten(x, 1)\n",
    "\t\tx = self.fc_1(x)\n",
    "\t\treturn x"
   ]
  },
  {
   "cell_type": "code",
   "execution_count": 247,
   "metadata": {},
   "outputs": [],
   "source": [
    "class ViTModel(nn.Module):\n",
    "\t\n",
    "\tdef __init__(self):\n",
    "\t\tsuper().__init__()\n",
    "\n",
    "\t\tself.classifier = LinearClassifier()\n",
    "\t\tself.model_path = 'google/vit-base-patch16-224-in21k'\n",
    "\t\tself.feature_extractor = ViTFeatureExtractor.from_pretrained(self.model_path)\n",
    "\t\n",
    "\tdef forward(self, x):\n",
    "\t\tprint(x)\n",
    "\t\tx = self.feature_extractor(x, return_tensors='pt')\n",
    "\t\tprint(\"LOOOOOOOOOOOOOOL\")\n",
    "\t\t# print(test.shape)\n",
    "\t\tprint(x)\n",
    "\t\tx = self.classifier(x)\n",
    "\t\treturn x\n"
   ]
  },
  {
   "cell_type": "code",
   "execution_count": 253,
   "metadata": {},
   "outputs": [],
   "source": [
    "class ViTModel2(nn.Module):\n",
    "\t\n",
    "\tdef __init__(self):\n",
    "\t\tsuper().__init__()\n",
    "\n",
    "\t\tself.classifier = LinearClassifier()\n",
    "\t\tself.vit = ViT(\n",
    "\t\t\timage_size = 28,\n",
    "\t\t\tpatch_size = 7,\n",
    "\t\t\tnum_classes = 10,\n",
    "\t\t\tdim = 28,\n",
    "\t\t\tchannels = 1\n",
    "\t\t\tdepth = 6,\n",
    "\t\t\theads = 16,\n",
    "\t\t\tmlp_dim = 2048,\n",
    "\t\t\tdropout = 0.1,\n",
    "\t\t\temb_dropout = 0.1,\n",
    "\t\t)\n",
    "\t\tself.feature_extractor = Extractor(self.vit, return_embeddings_only=True)\n",
    "\t\n",
    "\tdef forward(self, x):\n",
    "\t\tx = self.feature_extractor(x)\n",
    "\t\tx = self.classifier(x)\n",
    "\t\treturn x"
   ]
  },
  {
   "cell_type": "code",
   "execution_count": 249,
   "metadata": {},
   "outputs": [],
   "source": [
    "model = ViTModel2()\n",
    "loss_fn = nn.CrossEntropyLoss()\n",
    "optimizer = torch.optim.SGD(model.parameters(), lr=learning_rate)"
   ]
  },
  {
   "cell_type": "code",
   "execution_count": 250,
   "metadata": {},
   "outputs": [],
   "source": [
    "def train(train_loader, model, loss_fn, optmizer):\n",
    "\tsize = len(train_loader.dataset)\n",
    "\tbatches_l = len(train_loader)\n",
    "\tloss = 0\n",
    "\tcorrect = 0\n",
    "\n",
    "\tfor batch_idx, (data, target) in enumerate(train_loader):\n",
    "\t\tpred = model(data)\n",
    "\t\tloss = loss_fn(pred, target)\n",
    "\n",
    "\t\toptimizer.zero_grad()\n",
    "\t\tloss.backward()\n",
    "\t\toptimizer.step()\n",
    "\n",
    "\t\tif batch_idx % 100 == 0:\n",
    "\t\t\tprint(f'loss: {loss}')"
   ]
  },
  {
   "cell_type": "code",
   "execution_count": 251,
   "metadata": {},
   "outputs": [],
   "source": [
    "def test(test_loader, model, loss_fn):\n",
    "\tsize = len(test_loader.dataset)\n",
    "\tloss = 0\n",
    "\tcorrect_n = 0\n",
    "\tcorrect = 0\n",
    "\n",
    "\tfor batch_idx, (data, target) in enumerate(test_loader):\n",
    "\t\tpred = model(data)\n",
    "\t\targmax = pred.argmax(dim=1, keepdim=True)\n",
    "\t\tcorrect_n = argmax.eq(target.view_as(argmax)).sum().item()\n",
    "\t\tcorrect += correct_n\n",
    "\treturn correct / size\n"
   ]
  },
  {
   "cell_type": "code",
   "execution_count": 252,
   "metadata": {},
   "outputs": [
    {
     "ename": "RuntimeError",
     "evalue": "mat1 and mat2 shapes cannot be multiplied (1x476 and 784x10)",
     "output_type": "error",
     "traceback": [
      "\u001b[0;31m---------------------------------------------------------------------------\u001b[0m",
      "\u001b[0;31mRuntimeError\u001b[0m                              Traceback (most recent call last)",
      "\u001b[1;32m/mnt/c/Users/dolmalin/Documents/work/42ai/MNIST/test.ipynb Cell 15'\u001b[0m in \u001b[0;36m<cell line: 1>\u001b[0;34m()\u001b[0m\n\u001b[0;32m----> <a href='vscode-notebook-cell://wsl%2Bubuntu/mnt/c/Users/dolmalin/Documents/work/42ai/MNIST/test.ipynb#ch0000013vscode-remote?line=0'>1</a>\u001b[0m train(train_loader, model, loss_fn, optimizer)\n",
      "\u001b[1;32m/mnt/c/Users/dolmalin/Documents/work/42ai/MNIST/test.ipynb Cell 13'\u001b[0m in \u001b[0;36mtrain\u001b[0;34m(train_loader, model, loss_fn, optmizer)\u001b[0m\n\u001b[1;32m      <a href='vscode-notebook-cell://wsl%2Bubuntu/mnt/c/Users/dolmalin/Documents/work/42ai/MNIST/test.ipynb#ch0000011vscode-remote?line=4'>5</a>\u001b[0m correct \u001b[39m=\u001b[39m \u001b[39m0\u001b[39m\n\u001b[1;32m      <a href='vscode-notebook-cell://wsl%2Bubuntu/mnt/c/Users/dolmalin/Documents/work/42ai/MNIST/test.ipynb#ch0000011vscode-remote?line=6'>7</a>\u001b[0m \u001b[39mfor\u001b[39;00m batch_idx, (data, target) \u001b[39min\u001b[39;00m \u001b[39menumerate\u001b[39m(train_loader):\n\u001b[0;32m----> <a href='vscode-notebook-cell://wsl%2Bubuntu/mnt/c/Users/dolmalin/Documents/work/42ai/MNIST/test.ipynb#ch0000011vscode-remote?line=7'>8</a>\u001b[0m \tpred \u001b[39m=\u001b[39m model(data)\n\u001b[1;32m      <a href='vscode-notebook-cell://wsl%2Bubuntu/mnt/c/Users/dolmalin/Documents/work/42ai/MNIST/test.ipynb#ch0000011vscode-remote?line=8'>9</a>\u001b[0m \tloss \u001b[39m=\u001b[39m loss_fn(pred, target)\n\u001b[1;32m     <a href='vscode-notebook-cell://wsl%2Bubuntu/mnt/c/Users/dolmalin/Documents/work/42ai/MNIST/test.ipynb#ch0000011vscode-remote?line=10'>11</a>\u001b[0m \toptimizer\u001b[39m.\u001b[39mzero_grad()\n",
      "File \u001b[0;32m/mnt/c/Users/dolmalin/miniconda3/envs/Hand2Text/lib/python3.8/site-packages/torch/nn/modules/module.py:1110\u001b[0m, in \u001b[0;36mModule._call_impl\u001b[0;34m(self, *input, **kwargs)\u001b[0m\n\u001b[1;32m   <a href='file:///mnt/c/Users/dolmalin/miniconda3/envs/Hand2Text/lib/python3.8/site-packages/torch/nn/modules/module.py?line=1105'>1106</a>\u001b[0m \u001b[39m# If we don't have any hooks, we want to skip the rest of the logic in\u001b[39;00m\n\u001b[1;32m   <a href='file:///mnt/c/Users/dolmalin/miniconda3/envs/Hand2Text/lib/python3.8/site-packages/torch/nn/modules/module.py?line=1106'>1107</a>\u001b[0m \u001b[39m# this function, and just call forward.\u001b[39;00m\n\u001b[1;32m   <a href='file:///mnt/c/Users/dolmalin/miniconda3/envs/Hand2Text/lib/python3.8/site-packages/torch/nn/modules/module.py?line=1107'>1108</a>\u001b[0m \u001b[39mif\u001b[39;00m \u001b[39mnot\u001b[39;00m (\u001b[39mself\u001b[39m\u001b[39m.\u001b[39m_backward_hooks \u001b[39mor\u001b[39;00m \u001b[39mself\u001b[39m\u001b[39m.\u001b[39m_forward_hooks \u001b[39mor\u001b[39;00m \u001b[39mself\u001b[39m\u001b[39m.\u001b[39m_forward_pre_hooks \u001b[39mor\u001b[39;00m _global_backward_hooks\n\u001b[1;32m   <a href='file:///mnt/c/Users/dolmalin/miniconda3/envs/Hand2Text/lib/python3.8/site-packages/torch/nn/modules/module.py?line=1108'>1109</a>\u001b[0m         \u001b[39mor\u001b[39;00m _global_forward_hooks \u001b[39mor\u001b[39;00m _global_forward_pre_hooks):\n\u001b[0;32m-> <a href='file:///mnt/c/Users/dolmalin/miniconda3/envs/Hand2Text/lib/python3.8/site-packages/torch/nn/modules/module.py?line=1109'>1110</a>\u001b[0m     \u001b[39mreturn\u001b[39;00m forward_call(\u001b[39m*\u001b[39;49m\u001b[39minput\u001b[39;49m, \u001b[39m*\u001b[39;49m\u001b[39m*\u001b[39;49mkwargs)\n\u001b[1;32m   <a href='file:///mnt/c/Users/dolmalin/miniconda3/envs/Hand2Text/lib/python3.8/site-packages/torch/nn/modules/module.py?line=1110'>1111</a>\u001b[0m \u001b[39m# Do not call functions when jit is used\u001b[39;00m\n\u001b[1;32m   <a href='file:///mnt/c/Users/dolmalin/miniconda3/envs/Hand2Text/lib/python3.8/site-packages/torch/nn/modules/module.py?line=1111'>1112</a>\u001b[0m full_backward_hooks, non_full_backward_hooks \u001b[39m=\u001b[39m [], []\n",
      "\u001b[1;32m/mnt/c/Users/dolmalin/Documents/work/42ai/MNIST/test.ipynb Cell 11'\u001b[0m in \u001b[0;36mViTModel2.forward\u001b[0;34m(self, x)\u001b[0m\n\u001b[1;32m     <a href='vscode-notebook-cell://wsl%2Bubuntu/mnt/c/Users/dolmalin/Documents/work/42ai/MNIST/test.ipynb#ch0000017vscode-remote?line=20'>21</a>\u001b[0m \u001b[39mdef\u001b[39;00m \u001b[39mforward\u001b[39m(\u001b[39mself\u001b[39m, x):\n\u001b[1;32m     <a href='vscode-notebook-cell://wsl%2Bubuntu/mnt/c/Users/dolmalin/Documents/work/42ai/MNIST/test.ipynb#ch0000017vscode-remote?line=21'>22</a>\u001b[0m \tx \u001b[39m=\u001b[39m \u001b[39mself\u001b[39m\u001b[39m.\u001b[39mfeature_extractor(x)\n\u001b[0;32m---> <a href='vscode-notebook-cell://wsl%2Bubuntu/mnt/c/Users/dolmalin/Documents/work/42ai/MNIST/test.ipynb#ch0000017vscode-remote?line=22'>23</a>\u001b[0m \tx \u001b[39m=\u001b[39m \u001b[39mself\u001b[39;49m\u001b[39m.\u001b[39;49mclassifier(x)\n\u001b[1;32m     <a href='vscode-notebook-cell://wsl%2Bubuntu/mnt/c/Users/dolmalin/Documents/work/42ai/MNIST/test.ipynb#ch0000017vscode-remote?line=23'>24</a>\u001b[0m \t\u001b[39mreturn\u001b[39;00m x\n",
      "File \u001b[0;32m/mnt/c/Users/dolmalin/miniconda3/envs/Hand2Text/lib/python3.8/site-packages/torch/nn/modules/module.py:1110\u001b[0m, in \u001b[0;36mModule._call_impl\u001b[0;34m(self, *input, **kwargs)\u001b[0m\n\u001b[1;32m   <a href='file:///mnt/c/Users/dolmalin/miniconda3/envs/Hand2Text/lib/python3.8/site-packages/torch/nn/modules/module.py?line=1105'>1106</a>\u001b[0m \u001b[39m# If we don't have any hooks, we want to skip the rest of the logic in\u001b[39;00m\n\u001b[1;32m   <a href='file:///mnt/c/Users/dolmalin/miniconda3/envs/Hand2Text/lib/python3.8/site-packages/torch/nn/modules/module.py?line=1106'>1107</a>\u001b[0m \u001b[39m# this function, and just call forward.\u001b[39;00m\n\u001b[1;32m   <a href='file:///mnt/c/Users/dolmalin/miniconda3/envs/Hand2Text/lib/python3.8/site-packages/torch/nn/modules/module.py?line=1107'>1108</a>\u001b[0m \u001b[39mif\u001b[39;00m \u001b[39mnot\u001b[39;00m (\u001b[39mself\u001b[39m\u001b[39m.\u001b[39m_backward_hooks \u001b[39mor\u001b[39;00m \u001b[39mself\u001b[39m\u001b[39m.\u001b[39m_forward_hooks \u001b[39mor\u001b[39;00m \u001b[39mself\u001b[39m\u001b[39m.\u001b[39m_forward_pre_hooks \u001b[39mor\u001b[39;00m _global_backward_hooks\n\u001b[1;32m   <a href='file:///mnt/c/Users/dolmalin/miniconda3/envs/Hand2Text/lib/python3.8/site-packages/torch/nn/modules/module.py?line=1108'>1109</a>\u001b[0m         \u001b[39mor\u001b[39;00m _global_forward_hooks \u001b[39mor\u001b[39;00m _global_forward_pre_hooks):\n\u001b[0;32m-> <a href='file:///mnt/c/Users/dolmalin/miniconda3/envs/Hand2Text/lib/python3.8/site-packages/torch/nn/modules/module.py?line=1109'>1110</a>\u001b[0m     \u001b[39mreturn\u001b[39;00m forward_call(\u001b[39m*\u001b[39;49m\u001b[39minput\u001b[39;49m, \u001b[39m*\u001b[39;49m\u001b[39m*\u001b[39;49mkwargs)\n\u001b[1;32m   <a href='file:///mnt/c/Users/dolmalin/miniconda3/envs/Hand2Text/lib/python3.8/site-packages/torch/nn/modules/module.py?line=1110'>1111</a>\u001b[0m \u001b[39m# Do not call functions when jit is used\u001b[39;00m\n\u001b[1;32m   <a href='file:///mnt/c/Users/dolmalin/miniconda3/envs/Hand2Text/lib/python3.8/site-packages/torch/nn/modules/module.py?line=1111'>1112</a>\u001b[0m full_backward_hooks, non_full_backward_hooks \u001b[39m=\u001b[39m [], []\n",
      "\u001b[1;32m/mnt/c/Users/dolmalin/Documents/work/42ai/MNIST/test.ipynb Cell 9'\u001b[0m in \u001b[0;36mLinearClassifier.forward\u001b[0;34m(self, x)\u001b[0m\n\u001b[1;32m     <a href='vscode-notebook-cell://wsl%2Bubuntu/mnt/c/Users/dolmalin/Documents/work/42ai/MNIST/test.ipynb#ch0000008vscode-remote?line=19'>20</a>\u001b[0m \u001b[39mdef\u001b[39;00m \u001b[39mforward\u001b[39m(\u001b[39mself\u001b[39m, x):\n\u001b[1;32m     <a href='vscode-notebook-cell://wsl%2Bubuntu/mnt/c/Users/dolmalin/Documents/work/42ai/MNIST/test.ipynb#ch0000008vscode-remote?line=20'>21</a>\u001b[0m \tx \u001b[39m=\u001b[39m torch\u001b[39m.\u001b[39mflatten(x, \u001b[39m1\u001b[39m)\n\u001b[0;32m---> <a href='vscode-notebook-cell://wsl%2Bubuntu/mnt/c/Users/dolmalin/Documents/work/42ai/MNIST/test.ipynb#ch0000008vscode-remote?line=21'>22</a>\u001b[0m \tx \u001b[39m=\u001b[39m \u001b[39mself\u001b[39;49m\u001b[39m.\u001b[39;49mfc_1(x)\n\u001b[1;32m     <a href='vscode-notebook-cell://wsl%2Bubuntu/mnt/c/Users/dolmalin/Documents/work/42ai/MNIST/test.ipynb#ch0000008vscode-remote?line=22'>23</a>\u001b[0m \t\u001b[39mreturn\u001b[39;00m x\n",
      "File \u001b[0;32m/mnt/c/Users/dolmalin/miniconda3/envs/Hand2Text/lib/python3.8/site-packages/torch/nn/modules/module.py:1110\u001b[0m, in \u001b[0;36mModule._call_impl\u001b[0;34m(self, *input, **kwargs)\u001b[0m\n\u001b[1;32m   <a href='file:///mnt/c/Users/dolmalin/miniconda3/envs/Hand2Text/lib/python3.8/site-packages/torch/nn/modules/module.py?line=1105'>1106</a>\u001b[0m \u001b[39m# If we don't have any hooks, we want to skip the rest of the logic in\u001b[39;00m\n\u001b[1;32m   <a href='file:///mnt/c/Users/dolmalin/miniconda3/envs/Hand2Text/lib/python3.8/site-packages/torch/nn/modules/module.py?line=1106'>1107</a>\u001b[0m \u001b[39m# this function, and just call forward.\u001b[39;00m\n\u001b[1;32m   <a href='file:///mnt/c/Users/dolmalin/miniconda3/envs/Hand2Text/lib/python3.8/site-packages/torch/nn/modules/module.py?line=1107'>1108</a>\u001b[0m \u001b[39mif\u001b[39;00m \u001b[39mnot\u001b[39;00m (\u001b[39mself\u001b[39m\u001b[39m.\u001b[39m_backward_hooks \u001b[39mor\u001b[39;00m \u001b[39mself\u001b[39m\u001b[39m.\u001b[39m_forward_hooks \u001b[39mor\u001b[39;00m \u001b[39mself\u001b[39m\u001b[39m.\u001b[39m_forward_pre_hooks \u001b[39mor\u001b[39;00m _global_backward_hooks\n\u001b[1;32m   <a href='file:///mnt/c/Users/dolmalin/miniconda3/envs/Hand2Text/lib/python3.8/site-packages/torch/nn/modules/module.py?line=1108'>1109</a>\u001b[0m         \u001b[39mor\u001b[39;00m _global_forward_hooks \u001b[39mor\u001b[39;00m _global_forward_pre_hooks):\n\u001b[0;32m-> <a href='file:///mnt/c/Users/dolmalin/miniconda3/envs/Hand2Text/lib/python3.8/site-packages/torch/nn/modules/module.py?line=1109'>1110</a>\u001b[0m     \u001b[39mreturn\u001b[39;00m forward_call(\u001b[39m*\u001b[39;49m\u001b[39minput\u001b[39;49m, \u001b[39m*\u001b[39;49m\u001b[39m*\u001b[39;49mkwargs)\n\u001b[1;32m   <a href='file:///mnt/c/Users/dolmalin/miniconda3/envs/Hand2Text/lib/python3.8/site-packages/torch/nn/modules/module.py?line=1110'>1111</a>\u001b[0m \u001b[39m# Do not call functions when jit is used\u001b[39;00m\n\u001b[1;32m   <a href='file:///mnt/c/Users/dolmalin/miniconda3/envs/Hand2Text/lib/python3.8/site-packages/torch/nn/modules/module.py?line=1111'>1112</a>\u001b[0m full_backward_hooks, non_full_backward_hooks \u001b[39m=\u001b[39m [], []\n",
      "File \u001b[0;32m/mnt/c/Users/dolmalin/miniconda3/envs/Hand2Text/lib/python3.8/site-packages/torch/nn/modules/linear.py:103\u001b[0m, in \u001b[0;36mLinear.forward\u001b[0;34m(self, input)\u001b[0m\n\u001b[1;32m    <a href='file:///mnt/c/Users/dolmalin/miniconda3/envs/Hand2Text/lib/python3.8/site-packages/torch/nn/modules/linear.py?line=101'>102</a>\u001b[0m \u001b[39mdef\u001b[39;00m \u001b[39mforward\u001b[39m(\u001b[39mself\u001b[39m, \u001b[39minput\u001b[39m: Tensor) \u001b[39m-\u001b[39m\u001b[39m>\u001b[39m Tensor:\n\u001b[0;32m--> <a href='file:///mnt/c/Users/dolmalin/miniconda3/envs/Hand2Text/lib/python3.8/site-packages/torch/nn/modules/linear.py?line=102'>103</a>\u001b[0m     \u001b[39mreturn\u001b[39;00m F\u001b[39m.\u001b[39;49mlinear(\u001b[39minput\u001b[39;49m, \u001b[39mself\u001b[39;49m\u001b[39m.\u001b[39;49mweight, \u001b[39mself\u001b[39;49m\u001b[39m.\u001b[39;49mbias)\n",
      "\u001b[0;31mRuntimeError\u001b[0m: mat1 and mat2 shapes cannot be multiplied (1x476 and 784x10)"
     ]
    }
   ],
   "source": [
    "train(train_loader, model, loss_fn, optimizer)"
   ]
  },
  {
   "cell_type": "code",
   "execution_count": null,
   "metadata": {},
   "outputs": [
    {
     "name": "stdout",
     "output_type": "stream",
     "text": [
      "accuracy: 0.9686\n"
     ]
    },
    {
     "ename": "",
     "evalue": "",
     "output_type": "error",
     "traceback": [
      "\u001b[1;31mRunning cells with 'Python 3.10.4 64-bit' requires ipykernel package.\n",
      "Run the following command to install 'ipykernel' into the Python environment. \n",
      "Command: 'c:/Users/dolmalin/AppData/Local/Programs/Python/Python310/python.exe -m pip install ipykernel -U --user --force-reinstall'"
     ]
    },
    {
     "ename": "",
     "evalue": "",
     "output_type": "error",
     "traceback": [
      "\u001b[1;31mRunning cells with 'Python 3.10.4 64-bit' requires ipykernel package.\n",
      "Run the following command to install 'ipykernel' into the Python environment. \n",
      "Command: 'c:/Users/dolmalin/AppData/Local/Programs/Python/Python310/python.exe -m pip install ipykernel -U --user --force-reinstall'"
     ]
    }
   ],
   "source": [
    "print(f'accuracy: {test(test_loader, model, loss_fn)}')"
   ]
  }
 ],
 "metadata": {
  "interpreter": {
   "hash": "89bbe0b96a93b8e3d14f1ec99e5eb07da66d3d01173f444d3713e673448ab2d9"
  },
  "kernelspec": {
   "display_name": "Python 3.10.4 64-bit",
   "language": "python",
   "name": "python3"
  },
  "language_info": {
   "codemirror_mode": {
    "name": "ipython",
    "version": 3
   },
   "file_extension": ".py",
   "mimetype": "text/x-python",
   "name": "python",
   "nbconvert_exporter": "python",
   "pygments_lexer": "ipython3",
   "version": "3.10.4"
  },
  "orig_nbformat": 4
 },
 "nbformat": 4,
 "nbformat_minor": 2
}
