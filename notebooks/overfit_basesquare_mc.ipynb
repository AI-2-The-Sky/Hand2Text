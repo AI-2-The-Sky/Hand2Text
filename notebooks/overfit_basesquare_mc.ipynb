{
 "cells": [
  {
   "cell_type": "code",
   "execution_count": 75,
   "metadata": {},
   "outputs": [],
   "source": [
    "# %pip install nptyping"
   ]
  },
  {
   "cell_type": "code",
   "execution_count": 76,
   "metadata": {},
   "outputs": [],
   "source": [
    "# %pip install transformers"
   ]
  },
  {
   "cell_type": "code",
   "execution_count": 77,
   "metadata": {},
   "outputs": [],
   "source": [
    "import torch\n",
    "from torchvision import datasets, transforms\n",
    "import torch.nn.functional as F\n",
    "from torch import nn\n",
    "from torch.utils.data import ConcatDataset, DataLoader, Dataset\n",
    "import numpy as np\n",
    "from nptyping import Float32, NDArray, Number, Shape, UInt\n",
    "from transformers import ViTModel\n",
    "import pytorch_lightning as pl\n",
    "import math\n",
    "from torch.autograd import Variable\n",
    "\n",
    "import os\n",
    "import sys\n",
    "module_path = os.path.abspath(os.path.join('..'))\n",
    "if module_path not in sys.path:\n",
    "    sys.path.insert(0, module_path)"
   ]
  },
  {
   "cell_type": "code",
   "execution_count": 78,
   "metadata": {},
   "outputs": [],
   "source": [
    "class SignedDataset(Dataset):\n",
    "    def __init__(self, X, Y):\n",
    "        self.X = X\n",
    "        self.Y = Y\n",
    "\n",
    "    def __len__(self):\n",
    "        return len(self.X)\n",
    "\n",
    "    def __getitem__(self, i):\n",
    "        return self.X[i], self.Y[i]"
   ]
  },
  {
   "cell_type": "code",
   "execution_count": 79,
   "metadata": {},
   "outputs": [],
   "source": [
    "class ViT_FeatureExtractor(pl.LightningModule):\n",
    "\tdef __init__(\n",
    "\t\tself,\n",
    "\t\tnb_classes: int = 10,\n",
    "\t):\n",
    "\t\tsuper().__init__()\n",
    "\t\t# print(\"---VIT INIT---\")\n",
    "\n",
    "\t\tself.pretrained_vit = ViTModel.from_pretrained(\"google/vit-base-patch16-224-in21k\")\n",
    "\t\tself.pretrained_vit.eval()\n",
    "\n",
    "\t\tself.conv_1d_1 = torch.nn.Conv1d(\n",
    "\t\t\tin_channels=197,\n",
    "\t\t\tout_channels=64,\n",
    "\t\t\tkernel_size=3,\n",
    "\t\t)\n",
    "\t\tself.layer_1_relu = nn.ReLU()\n",
    "\t\tself.conv_1d_2 = torch.nn.Conv1d(\n",
    "\t\t\tin_channels=64,\n",
    "\t\t\tout_channels=nb_classes, # <-- i/o 1\n",
    "\t\t\tkernel_size=3,\n",
    "\t\t)\n",
    "\t\tself.layer_2_relu = nn.ReLU()\n",
    "\n",
    "\tdef vit_extract_features(self, x):\n",
    "\t\t# print(\"---VIT EXTRACT FEATURES---\")\n",
    "\t\twith torch.no_grad():\n",
    "\t\t\toutputs = self.pretrained_vit(pixel_values=x)\n",
    "\t\t\tvit_feat = outputs.last_hidden_state\n",
    "\t\t\tprint(f\"{vit_feat.shape= }\")\n",
    "\t\t\tvit_feat = torch.flatten(vit_feat, start_dim=1)\n",
    "\t\treturn vit_feat\n",
    "\t\n",
    "\tdef forward(\n",
    "\t\tself,\n",
    "\t\tvit_feat, \n",
    "\t) -> NDArray[Shape[\"* batch, * vocab size\"], Float32]:\n",
    "\t\t# print(\"---VIT FORWARD---\")\n",
    "\t\tx = self.conv_1d_1(vit_feat)\n",
    "\t\tx = self.layer_1_relu(x)\n",
    "\t\tx = self.conv_1d_2(x)\n",
    "\t\tx = self.layer_2_relu(x)\n",
    "\t\treturn x"
   ]
  },
  {
   "cell_type": "code",
   "execution_count": 80,
   "metadata": {},
   "outputs": [],
   "source": [
    "class BasicModel(pl.LightningModule):\n",
    "\tdef __init__(\n",
    "\t\tself,\n",
    "\t):\n",
    "\t\t# print(\"---BASIC MODEL INIT---\")\n",
    "\t\tsuper().__init__()\n",
    "\t\tself.save_hyperparameters()\n",
    "\n",
    "\t\tself.vocabulary_size = nb_classes\n",
    "\t\tself.layer = nn.Linear(151296, self.vocabulary_size)\n",
    "\t\tself.softmax = torch.nn.Softmax(dim=2)\n",
    "\n",
    "\tdef forward(\n",
    "\t\tself, x: NDArray[Shape[\"* batch, 224, 224, 3\"], Float32]\n",
    "\t) -> NDArray[Shape[\"* batch, * vocab size\"], Float32]:\n",
    "\t\t# print(\"---BASIC MODEL FORWARD---\")\n",
    "\t\tx = self.layer(x)\n",
    "\t\tx = self.softmax(x)\n",
    "\t\treturn x"
   ]
  },
  {
   "cell_type": "code",
   "execution_count": null,
   "metadata": {},
   "outputs": [],
   "source": []
  },
  {
   "cell_type": "code",
   "execution_count": 81,
   "metadata": {},
   "outputs": [],
   "source": [
    "\n",
    "class BaseSquareNet(pl.LightningModule):\n",
    "\tdef __init__(\n",
    "\t\tself,\n",
    "\t\tbatch_size: int = 1,\n",
    "\t\tseq_size: int = 1,\n",
    "\t\tnb_classes: int = 10,\n",
    "\t\th_in: int = 10,\n",
    "\t):\n",
    "\t\tsuper().__init__()\n",
    "\t\tself.save_hyperparameters()\n",
    "\n",
    "\t\tself.batch_size = batch_size\n",
    "\t\tself.nb_seq_sizebatch = seq_size\n",
    "\t\tself.image_feature_extractr = ViT_FeatureExtractor(nb_classes=nb_classes)\n",
    "\t\tself.recurrent_translator = GRU_Translator(\n",
    "\t\t\tnb_classes = nb_classes,\n",
    "\t\t\tH_input_size=h_in,\n",
    "\t\t\t# H_output_size=100,\n",
    "\t\t\tnum_layers=1,\n",
    "\t\t\tdropout=0,\n",
    "\t\t)\n",
    "\n",
    "\tdef forward(\n",
    "\t\tself, x: NDArray[Shape[\"* batch, 224, 224, 3\"], Float32]\n",
    "\t) -> NDArray[Shape[\"* batch, * vocab size\"], Float32]:\n",
    "\t\tx = self.recurrent_translator(x)\n",
    "\t\treturn x"
   ]
  },
  {
   "cell_type": "code",
   "execution_count": 82,
   "metadata": {},
   "outputs": [],
   "source": [
    "# Hyperparameters\n",
    "nb_classes=4\n",
    "seq_size = 3\n",
    "batch_size = 2\n",
    "learning_rate = 1e-4\n",
    "h_in = 4"
   ]
  },
  {
   "cell_type": "code",
   "execution_count": 83,
   "metadata": {},
   "outputs": [
    {
     "name": "stdout",
     "output_type": "stream",
     "text": [
      "x = tensor([[[0.0847, 0.3212, 0.4757, 0.4554],\n",
      "         [0.0679, 0.1502, 0.5550, 0.3498],\n",
      "         [0.7801, 0.4790, 0.9360, 0.8824]],\n",
      "\n",
      "        [[0.9988, 0.6722, 0.2174, 0.8381],\n",
      "         [0.9823, 0.3689, 0.7894, 0.2477],\n",
      "         [0.7110, 0.1337, 0.4323, 0.0889]]])\n",
      "y = tensor([[0, 3, 3],\n",
      "        [1, 1, 3]])\n"
     ]
    }
   ],
   "source": [
    "# Data\n",
    "# x = torch.rand((batch_size, seq_size, 3, 224, 224))\n",
    "# y = torch.randint(0, nb_classes, (batch_size, seq_size, 1))\n",
    "\n",
    "# x = torch.rand((batch_size, 3, 224, 224))\n",
    "x = torch.rand((batch_size, seq_size, h_in))\n",
    "y = torch.randint(0, nb_classes, (batch_size, seq_size))\n",
    "\n",
    "print(f\"{x = }\")\n",
    "print(f\"{y = }\")"
   ]
  },
  {
   "cell_type": "code",
   "execution_count": 84,
   "metadata": {},
   "outputs": [],
   "source": [
    "# class GRUCell(nn.Module):\n",
    "\n",
    "#     \"\"\"\n",
    "#     An implementation of GRUCell.\n",
    "\n",
    "#     \"\"\"\n",
    "\n",
    "#     def __init__(self, input_size, hidden_size, bias=True):\n",
    "#         super(GRUCell, self).__init__()\n",
    "#         self.input_size = input_size\n",
    "#         self.hidden_size = hidden_size\n",
    "#         self.bias = bias\n",
    "#         self.x2h = nn.Linear(input_size, 3 * hidden_size, bias=bias)\n",
    "#         self.h2h = nn.Linear(hidden_size, 3 * hidden_size, bias=bias)\n",
    "#         self.reset_parameters()\n",
    "\n",
    "\n",
    "\n",
    "#     def reset_parameters(self):\n",
    "#         std = 1.0 / math.sqrt(self.hidden_size)\n",
    "#         for w in self.parameters():\n",
    "#             w.data.uniform_(-std, std)\n",
    "    \n",
    "#     def forward(self, x, hidden):\n",
    "        \n",
    "#         x = x.view(-1, x.size(1))\n",
    "        \n",
    "#         gate_x = self.x2h(x) \n",
    "#         gate_h = self.h2h(hidden)\n",
    "        \n",
    "#         gate_x = gate_x.squeeze()\n",
    "#         gate_h = gate_h.squeeze()\n",
    "        \n",
    "#         i_r, i_i, i_n = gate_x.chunk(3, 1)\n",
    "#         h_r, h_i, h_n = gate_h.chunk(3, 1)\n",
    "        \n",
    "        \n",
    "#         resetgate = F.sigmoid(i_r + h_r)\n",
    "#         inputgate = F.sigmoid(i_i + h_i)\n",
    "#         newgate = F.tanh(i_n + (resetgate * h_n))\n",
    "        \n",
    "#         hy = newgate + inputgate * (hidden - newgate)\n",
    "        \n",
    "        \n",
    "#         return hy\n",
    "\n",
    "# class GRUModel(nn.Module):\n",
    "#     def __init__(self, input_dim, hidden_dim, layer_dim, output_dim, bias=True):\n",
    "#         super(GRUModel, self).__init__()\n",
    "#         # Hidden dimensions\n",
    "#         self.hidden_dim = hidden_dim\n",
    "         \n",
    "#         # Number of hidden layers\n",
    "#         self.layer_dim = layer_dim\n",
    "         \n",
    "       \n",
    "#         self.gru_cell = GRUCell(input_dim, hidden_dim, layer_dim)\n",
    "        \n",
    "        \n",
    "#         self.fc = nn.Linear(hidden_dim, output_dim)\n",
    "     \n",
    "    \n",
    "#     def forward(self, x):\n",
    "        \n",
    "#         # Initialize hidden state with zeros\n",
    "#         #######################\n",
    "#         #  USE GPU FOR MODEL  #\n",
    "#         #######################\n",
    "#         #print(x.shape,\"x.shape\")100, 28, 28\n",
    "#         if torch.cuda.is_available():\n",
    "#             h0 = Variable(torch.zeros(self.layer_dim, x.size(0), self.hidden_dim).cuda())\n",
    "#         else:\n",
    "#             h0 = Variable(torch.zeros(self.layer_dim, x.size(0), self.hidden_dim))\n",
    "         \n",
    "       \n",
    "#         outs = []\n",
    "        \n",
    "#         hn = h0[0,:,:]\n",
    "        \n",
    "#         for seq in range(x.size(1)):\n",
    "#             hn = self.gru_cell(x[:,seq,:], hn) \n",
    "#             outs.append(hn)\n",
    "            \n",
    "#         out = outs[-1].squeeze()\n",
    "        \n",
    "#         out = self.fc(out) \n",
    "#         # out.size() --> 100, 10\n",
    "#         return out"
   ]
  },
  {
   "cell_type": "code",
   "execution_count": 85,
   "metadata": {},
   "outputs": [],
   "source": [
    "from tqdm import tqdm \n",
    "\n",
    "# Models\n",
    "# vit_feat = model.image_feature_extractr.vit_extract_features(x)\n",
    "\n",
    "# dataset = SignedDataset(vit_feat, y)\n",
    "dataset = SignedDataset(x, y)\n",
    "dataloader = DataLoader(dataset=dataset, batch_size=batch_size)\n",
    "\t# lr = 10 ** (- e_lr / 10)\n",
    "\n",
    "loss_fn = torch.nn.CrossEntropyLoss()\n",
    "\n",
    "\n",
    "def train(train_loader, model, loss_fn, learning_rate, epochs=100):\n",
    "\toptimizer = torch.optim.Adam(model.parameters(), lr=learning_rate)\n",
    "\tlosses = []\n",
    "\tidx = 0\n",
    "\tfor epoch in tqdm(range(epochs)):\n",
    "\t\tfor batch_idx, (X, y) in enumerate(train_loader):\n",
    "\t\t\tpred = model(X)\n",
    "\t\t\tpred = pred.permute(0, 2, 1)\n",
    "\t\t\tloss = loss_fn(pred, y)\n",
    "\t\t\tloss.backward()\n",
    "\t\t\toptimizer.step()\n",
    "\t\t\toptimizer.zero_grad()\n",
    "\n",
    "\t\t\t# if epoch % 10 == 0:\n",
    "\t\t\t# \tprint(f'[{epoch = }] loss: {loss}')\n",
    "\t\t\tidx += 1\n",
    "\t\t\tlosses.append(float(loss.detach().numpy()))\n",
    "\treturn losses\n",
    "\n"
   ]
  },
  {
   "cell_type": "code",
   "execution_count": 86,
   "metadata": {},
   "outputs": [],
   "source": [
    "# Losses for   1 classes of sizes: [4]\n",
    "#     truth: 0.7436684966087341\n",
    "#     rando: 1.489761471748352\n",
    "#     false: 1.743667721748352"
   ]
  },
  {
   "cell_type": "code",
   "execution_count": 96,
   "metadata": {},
   "outputs": [
    {
     "name": "stderr",
     "output_type": "stream",
     "text": [
      "100%|██████████| 1000/1000 [00:01<00:00, 970.83it/s]\n"
     ]
    },
    {
     "name": "stdout",
     "output_type": "stream",
     "text": [
      "For lr = 0.01, min(losses) = 0.7442333102226257\n"
     ]
    },
    {
     "data": {
      "image/png": "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",
      "text/plain": [
       "<Figure size 1152x648 with 1 Axes>"
      ]
     },
     "metadata": {
      "needs_background": "light"
     },
     "output_type": "display_data"
    }
   ],
   "source": [
    "import matplotlib.pyplot as plt\n",
    "\n",
    "plt.figure(figsize=(16, 9))\n",
    "torch.manual_seed(6)\n",
    "\n",
    "for lr in [0.01]:\n",
    "\t# lr = 10 ** (- e_lr / 10)\n",
    "\tmodel = BaseSquareNet(nb_classes=nb_classes, seq_size=seq_size, batch_size=batch_size, h_in=h_in)\n",
    "\tlosses = train(dataloader, model, loss_fn, learning_rate=lr, epochs=int(1e3))\n",
    "\tprint(f\"For {lr = }, {min(losses) = }\")\n",
    "\tplt.plot(losses, label=f\"{lr:e}\")\n",
    "leg = plt.legend(loc='best')\n",
    "plt.show()\n"
   ]
  },
  {
   "cell_type": "code",
   "execution_count": 88,
   "metadata": {},
   "outputs": [
    {
     "name": "stdout",
     "output_type": "stream",
     "text": [
      "x = tensor([[[0.0847, 0.3212, 0.4757, 0.4554],\n",
      "         [0.0679, 0.1502, 0.5550, 0.3498],\n",
      "         [0.7801, 0.4790, 0.9360, 0.8824]],\n",
      "\n",
      "        [[0.9988, 0.6722, 0.2174, 0.8381],\n",
      "         [0.9823, 0.3689, 0.7894, 0.2477],\n",
      "         [0.7110, 0.1337, 0.4323, 0.0889]]])\n",
      "pred = tensor([[[0.2573, 0.2734, 0.2023, 0.2670],\n",
      "         [0.2325, 0.2978, 0.1977, 0.2720],\n",
      "         [0.2247, 0.2969, 0.1924, 0.2859]],\n",
      "\n",
      "        [[0.2842, 0.2632, 0.1890, 0.2636],\n",
      "         [0.2570, 0.2825, 0.1823, 0.2782],\n",
      "         [0.2491, 0.2981, 0.1773, 0.2755]]], grad_fn=<SoftmaxBackward0>)\n",
      "y = tensor([[0, 3, 3],\n",
      "        [1, 1, 3]])\n"
     ]
    }
   ],
   "source": [
    "print(f\"{x = }\")\n",
    "pred = model.forward(x)\n",
    "print(f\"{pred = }\")\n",
    "print(f\"{y = }\")\n"
   ]
  },
  {
   "cell_type": "code",
   "execution_count": 89,
   "metadata": {},
   "outputs": [
    {
     "data": {
      "text/plain": [
       "tensor([0.2573, 0.2734, 0.2023, 0.2670], grad_fn=<SelectBackward0>)"
      ]
     },
     "execution_count": 89,
     "metadata": {},
     "output_type": "execute_result"
    }
   ],
   "source": [
    "pred[0,0]"
   ]
  },
  {
   "cell_type": "code",
   "execution_count": 90,
   "metadata": {},
   "outputs": [
    {
     "data": {
      "image/png": "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",
      "text/plain": [
       "<Figure size 1152x648 with 1 Axes>"
      ]
     },
     "metadata": {
      "needs_background": "light"
     },
     "output_type": "display_data"
    }
   ],
   "source": [
    "plt.figure(figsize=(16, 9))\n",
    "plt.plot(losses, label=f\"{lr:e}\")\n",
    "leg = plt.legend(loc='best')\n",
    "plt.show()\n"
   ]
  }
 ],
 "metadata": {
  "kernelspec": {
<<<<<<< HEAD
   "display_name": "Python 3.8.13 ('Hand2Text')",
=======
   "display_name": "Python 3.10.4 64-bit",
>>>>>>> 32ec34b ( e)
   "language": "python",
   "name": "python3"
  },
  "language_info": {
   "codemirror_mode": {
    "name": "ipython",
    "version": 3
   },
   "file_extension": ".py",
   "mimetype": "text/x-python",
   "name": "python",
   "nbconvert_exporter": "python",
   "pygments_lexer": "ipython3",
   "version": "3.10.4"
  },
  "orig_nbformat": 4,
  "vscode": {
   "interpreter": {
<<<<<<< HEAD
    "hash": "cf687d64d53e3adc62f479116506dad1cadccbe1000f1194a9eb47c325d46594"
=======
    "hash": "916dbcbb3f70747c44a77c7bcd40155683ae19c65e1c03b4aa3499c5328201f1"
>>>>>>> 32ec34b ( e)
   }
  }
 },
 "nbformat": 4,
 "nbformat_minor": 2
}
